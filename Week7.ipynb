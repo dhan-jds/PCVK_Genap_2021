{
  "nbformat": 4,
  "nbformat_minor": 0,
  "metadata": {
    "colab": {
      "name": "Week7.ipynb",
      "provenance": [],
      "authorship_tag": "ABX9TyOewD0dWYaSQ6YHDkVFMEj/",
      "include_colab_link": true
    },
    "kernelspec": {
      "name": "python3",
      "display_name": "Python 3"
    },
    "language_info": {
      "name": "python"
    }
  },
  "cells": [
    {
      "cell_type": "markdown",
      "metadata": {
        "id": "view-in-github",
        "colab_type": "text"
      },
      "source": [
        "<a href=\"https://colab.research.google.com/github/dhan-jds/PCVK_Genap_2021/blob/main/Week7.ipynb\" target=\"_parent\"><img src=\"https://colab.research.google.com/assets/colab-badge.svg\" alt=\"Open In Colab\"/></a>"
      ]
    },
    {
      "cell_type": "markdown",
      "metadata": {
        "id": "WTMrFds07iEG"
      },
      "source": [
        "2"
      ]
    },
    {
      "cell_type": "code",
      "metadata": {
        "colab": {
          "base_uri": "https://localhost:8080/"
        },
        "id": "BEQPi0607qS_",
        "outputId": "68f4d516-66f7-47c8-ebbf-dcb2a1367726"
      },
      "source": [
        "from google.colab import drive\n",
        "\n",
        "# Accessing My Google Drive\n",
        "drive.mount('/content/drive')"
      ],
      "execution_count": 1,
      "outputs": [
        {
          "output_type": "stream",
          "text": [
            "Mounted at /content/drive\n"
          ],
          "name": "stdout"
        }
      ]
    },
    {
      "cell_type": "code",
      "metadata": {
        "id": "SK5WY55iBS92"
      },
      "source": [
        "import numpy as np\n",
        "import matplotlib.pyplot as plt\n",
        "import cv2 as cv\n",
        "import math\n",
        "from google.colab.patches import cv2_imshow\n",
        "from PIL import Image as im"
      ],
      "execution_count": 2,
      "outputs": []
    },
    {
      "cell_type": "code",
      "metadata": {
        "id": "zdYHUIdt7hKc"
      },
      "source": [
        "def convolution2d(image, kernel, stride, padding):\n",
        "\n",
        "  image = np.pad(image, padding, mode='constant', constant_values=0)\n",
        "\n",
        "  kernel_height, kernel_width = kernel.shape\n",
        "  padded_height, padded_width = image.shape\n",
        "\n",
        "  output_height = (padded_height - kernel_height) // stride + 1\n",
        "  output_width = (padded_width - kernel_width) // stride + 1\n",
        "\n",
        "  new_image = np.zeros((output_height, output_width)).astype(np.float32)\n",
        "\n",
        "  # convolution process\n",
        "  for y in range(0, output_height):\n",
        "    for x in range(0, output_width):\n",
        "      new_image[y][x] = np.sum(image[y * stride:y * stride + kernel_height, x * stride:x * stride + kernel_width] * kernel).astype(np.float32)\n",
        "  return new_image\n",
        "\n",
        "original = cv.imread('/content/drive/MyDrive/pcvk/mandrill.tiff')\n",
        "img = cv.resize(original, (0,0), fx=0.5, fy=0.5) \n",
        "img_gray = cv.cvtColor(img, cv.COLOR_BGR2GRAY)\n",
        "\n",
        "\n",
        "\n",
        "# image sharpen\n",
        "kernal_sharpen = np.array([[0,-1,0],\n",
        "                           [-1,5,-1],\n",
        "                           [0,-1,0]])\n",
        "# emboss\n",
        "kernal_emboss = np.array([[-2,-1,0],\n",
        "                          [-1,1,1],\n",
        "                          [0,1,2]])\n",
        "\n",
        "\n",
        "# left sobel edge detection\n",
        "kernal_sobel = np.array([[1,0,-1],\n",
        "                         [2,0,-2],\n",
        "                         [1,0,-1]])\n",
        "\n",
        "\n",
        "# canny edge detection\n",
        "kernal_canny = np.array([[-1,-1,-1],\n",
        "                         [-1,8,-1],\n",
        "                         [-1,-1,-1]])\n",
        "\n",
        "\n",
        "cv2_imshow(convolution2d(img_gray,kernal_sharpen,1,2))\n",
        "\n",
        "\n",
        "cv2_imshow(convolution2d(img_gray,kernal_emboss,1,2))\n",
        "cv2_imshow(convolution2d(img_gray,kernal_sobel,1,2))\n",
        "cv2_imshow(convolution2d(img_gray,kernal_canny,1,2))\n",
        "\n",
        "\n",
        "kernel_size = 21\n",
        "sigma = math.sqrt(kernel_size)\n",
        "gaussian_kernel = cv.getGaussianKernel(kernel_size, sigma)\n",
        "gauss_kernel = gaussian_kernel @ gaussian_kernel.transpose()\n",
        "\n",
        "cv2_imshow(convolution2d(img_gray,gauss_kernel,1,2))"
      ],
      "execution_count": null,
      "outputs": []
    }
  ]
}